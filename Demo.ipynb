{
  "nbformat": 4,
  "nbformat_minor": 0,
  "metadata": {
    "colab": {
      "name": "Demo.ipynb",
      "provenance": [],
      "authorship_tag": "ABX9TyNYO/sqabHSTLfdFuEZDLk0",
      "include_colab_link": true
    },
    "kernelspec": {
      "name": "python3",
      "display_name": "Python 3"
    },
    "language_info": {
      "name": "python"
    }
  },
  "cells": [
    {
      "cell_type": "markdown",
      "metadata": {
        "id": "view-in-github",
        "colab_type": "text"
      },
      "source": [
        "<a href=\"https://colab.research.google.com/github/LouisFeraer/CPEN21A-ECE-2-1/blob/main/Demo.ipynb\" target=\"_parent\"><img src=\"https://colab.research.google.com/assets/colab-badge.svg\" alt=\"Open In Colab\"/></a>"
      ]
    },
    {
      "cell_type": "markdown",
      "metadata": {
        "id": "cRHRkeUUrw56"
      },
      "source": [
        "##Intro to Pyton Programming\n",
        "\n",
        "---\n",
        "\n"
      ]
    },
    {
      "cell_type": "code",
      "metadata": {
        "id": "WQE7dVM_sBEM"
      },
      "source": [
        "#Python Indention\n",
        "  "
      ],
      "execution_count": 2,
      "outputs": []
    },
    {
      "cell_type": "markdown",
      "metadata": {
        "id": "iBWsKsRltnNQ"
      },
      "source": [
        "##Python Variable"
      ]
    },
    {
      "cell_type": "code",
      "metadata": {
        "colab": {
          "base_uri": "https://localhost:8080/"
        },
        "id": "8clpp7vjuPzW",
        "outputId": "96798c77-3dfa-4ddf-8b7b-697836276d34"
      },
      "source": [
        "x=1\n",
        "a,b = 0, 1\n",
        "a,b,c=0,1,2\n",
        "print(x)\n",
        "print(a)\n",
        "print(b)\n",
        "print(c)"
      ],
      "execution_count": 3,
      "outputs": [
        {
          "output_type": "stream",
          "name": "stdout",
          "text": [
            "1\n",
            "0\n",
            "1\n",
            "2\n"
          ]
        }
      ]
    },
    {
      "cell_type": "code",
      "metadata": {
        "colab": {
          "base_uri": "https://localhost:8080/"
        },
        "id": "Bgs7ydpjvQmX",
        "outputId": "fada5ece-b75d-4838-da72-64b2f9e61395"
      },
      "source": [
        "d=\"Sally\"\n",
        "D=\"Ana\"\n",
        "print(d)\n",
        "e= \"John\"\n",
        "print(e) \n",
        "print (D)\n"
      ],
      "execution_count": 6,
      "outputs": [
        {
          "output_type": "stream",
          "name": "stdout",
          "text": [
            "Sally\n",
            "John\n",
            "Ana\n"
          ]
        }
      ]
    },
    {
      "cell_type": "markdown",
      "metadata": {
        "id": "osdgFjtnudv_"
      },
      "source": [
        "##Casting"
      ]
    },
    {
      "cell_type": "code",
      "metadata": {
        "colab": {
          "base_uri": "https://localhost:8080/"
        },
        "id": "v9pHrRFcuohc",
        "outputId": "2e1264ef-eac9-47c3-b188-a92f61b0bf38"
      },
      "source": [
        "f=float(4)\n",
        "print(f)\n",
        "i=int(5)\n",
        "print(i)"
      ],
      "execution_count": 4,
      "outputs": [
        {
          "output_type": "stream",
          "name": "stdout",
          "text": [
            "4.0\n",
            "5\n"
          ]
        }
      ]
    },
    {
      "cell_type": "markdown",
      "metadata": {
        "id": "zI1gme7AwFhz"
      },
      "source": [
        "##Multiple Variables with One Value"
      ]
    },
    {
      "cell_type": "code",
      "metadata": {
        "colab": {
          "base_uri": "https://localhost:8080/"
        },
        "id": "AqOHhqdOwFKa",
        "outputId": "9f95861e-3f9a-4b1f-f284-bcf1a933b884"
      },
      "source": [
        "x = y = z = \"four\"\n",
        "print (x)\n",
        "print (y)\n",
        "print (z)"
      ],
      "execution_count": 7,
      "outputs": [
        {
          "output_type": "stream",
          "name": "stdout",
          "text": [
            "four\n",
            "four\n",
            "four\n"
          ]
        }
      ]
    },
    {
      "cell_type": "code",
      "metadata": {
        "colab": {
          "base_uri": "https://localhost:8080/"
        },
        "id": "jY9L7GbJwiRb",
        "outputId": "136e20a0-8492-4861-a176-de7d0279f9a3"
      },
      "source": [
        "x = \"enjoying\"\n",
        "print(\"Python Programming is\" \" \" + x)"
      ],
      "execution_count": 9,
      "outputs": [
        {
          "output_type": "stream",
          "name": "stdout",
          "text": [
            "Python Programming is enjoying\n"
          ]
        }
      ]
    },
    {
      "cell_type": "markdown",
      "metadata": {
        "id": "BJLT9ctrxFuz"
      },
      "source": [
        "#Operations in Python"
      ]
    },
    {
      "cell_type": "code",
      "metadata": {
        "colab": {
          "base_uri": "https://localhost:8080/"
        },
        "id": "biNdAaQNxJxL",
        "outputId": "18d383e2-2636-4d6b-bfa0-cac5da778891"
      },
      "source": [
        "x = 5\n",
        "y = 7\n",
        "print (x+y)\n",
        "print (x*y) \n",
        "\n",
        "       "
      ],
      "execution_count": 12,
      "outputs": [
        {
          "output_type": "stream",
          "name": "stdout",
          "text": [
            "12\n",
            "35\n"
          ]
        }
      ]
    },
    {
      "cell_type": "code",
      "metadata": {
        "colab": {
          "base_uri": "https://localhost:8080/"
        },
        "id": "r7eO1XZ1zOlV",
        "outputId": "9ba933d4-942f-46c6-f5ee-7583536d9805"
      },
      "source": [
        "x>y or y==y"
      ],
      "execution_count": 15,
      "outputs": [
        {
          "output_type": "execute_result",
          "data": {
            "text/plain": [
              "True"
            ]
          },
          "metadata": {},
          "execution_count": 15
        }
      ]
    },
    {
      "cell_type": "code",
      "metadata": {
        "colab": {
          "base_uri": "https://localhost:8080/"
        },
        "id": "vCNOviBo0DR3",
        "outputId": "b0243b03-0fa2-4682-dde3-340ba8d9db7b"
      },
      "source": [
        "x is y"
      ],
      "execution_count": 16,
      "outputs": [
        {
          "output_type": "execute_result",
          "data": {
            "text/plain": [
              "False"
            ]
          },
          "metadata": {},
          "execution_count": 16
        }
      ]
    },
    {
      "cell_type": "code",
      "metadata": {
        "colab": {
          "base_uri": "https://localhost:8080/"
        },
        "id": "teBfIQOA0IIq",
        "outputId": "6cbbde2f-ad70-4475-9533-75ae4a69ba85"
      },
      "source": [
        "x is not y\n"
      ],
      "execution_count": 18,
      "outputs": [
        {
          "output_type": "execute_result",
          "data": {
            "text/plain": [
              "True"
            ]
          },
          "metadata": {},
          "execution_count": 18
        }
      ]
    }
  ]
}