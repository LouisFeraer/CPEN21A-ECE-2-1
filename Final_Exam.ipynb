{
  "nbformat": 4,
  "nbformat_minor": 0,
  "metadata": {
    "colab": {
      "name": "Final Exam.ipynb",
      "provenance": [],
      "collapsed_sections": [],
      "authorship_tag": "ABX9TyOQEBmBHV77kwsJ5gXoO4Yu",
      "include_colab_link": true
    },
    "kernelspec": {
      "name": "python3",
      "display_name": "Python 3"
    },
    "language_info": {
      "name": "python"
    }
  },
  "cells": [
    {
      "cell_type": "markdown",
      "metadata": {
        "id": "view-in-github",
        "colab_type": "text"
      },
      "source": [
        "<a href=\"https://colab.research.google.com/github/LouisFeraer/CPEN21A-ECE-2-1/blob/main/Final_Exam.ipynb\" target=\"_parent\"><img src=\"https://colab.research.google.com/assets/colab-badge.svg\" alt=\"Open In Colab\"/></a>"
      ]
    },
    {
      "cell_type": "markdown",
      "source": [
        "#Final Exam"
      ],
      "metadata": {
        "id": "tGWEESyE1EDf"
      }
    },
    {
      "cell_type": "markdown",
      "source": [
        "####Problem Statement 1"
      ],
      "metadata": {
        "id": "2ZZul0W01Ilu"
      }
    },
    {
      "cell_type": "code",
      "source": [
        "num=(\"1\",\"2\",\"3\",\"4\",\"2\",\"3\",\"4\",\"1\",\"3\",\"4\")\n",
        "for x in num:\n",
        "  print(x)\n",
        "else:\n",
        "    print(\"sum of ten number less than 5 :\", 1+2+3+4+2+3+4+1+3+4)"
      ],
      "metadata": {
        "colab": {
          "base_uri": "https://localhost:8080/"
        },
        "id": "Lz8JhP4dKEHA",
        "outputId": "1cf1a2c5-73f5-4041-97fe-89848c3e3f16"
      },
      "execution_count": null,
      "outputs": [
        {
          "output_type": "stream",
          "name": "stdout",
          "text": [
            "1\n",
            "2\n",
            "3\n",
            "4\n",
            "2\n",
            "3\n",
            "4\n",
            "1\n",
            "3\n",
            "4\n",
            "sum of ten number less than 5 : 27\n"
          ]
        }
      ]
    },
    {
      "cell_type": "markdown",
      "source": [
        "####Problem Statement 2"
      ],
      "metadata": {
        "id": "7oYGEWXN1K9t"
      }
    },
    {
      "cell_type": "code",
      "source": [
        "i=5\n",
        "while i<10:\n",
        "  print(i)\n",
        "  i+=1 \n",
        "else:\n",
        "  print(\"sum of first and last digits :\", 5+9)"
      ],
      "metadata": {
        "colab": {
          "base_uri": "https://localhost:8080/"
        },
        "id": "-ajmH_80_tEo",
        "outputId": "039bca38-4a0d-4486-a583-b7278b910e08"
      },
      "execution_count": null,
      "outputs": [
        {
          "output_type": "stream",
          "name": "stdout",
          "text": [
            "5\n",
            "6\n",
            "7\n",
            "8\n",
            "9\n",
            "sum of first and last digits : 14\n"
          ]
        }
      ]
    },
    {
      "cell_type": "markdown",
      "source": [
        "####Problem Statement 3"
      ],
      "metadata": {
        "id": "7NGx0usR1N-9"
      }
    },
    {
      "cell_type": "code",
      "source": [
        "  grade=float(input(\"Grades \"))\n",
        "  if grade>=90:\n",
        "    print(\"Grade A\")\n",
        "  elif 80<=grade<90:\n",
        "    print(\"Grade B\")\n",
        "  elif 70<=grade<80:\n",
        "    print(\"Grade C\")\n",
        "  elif 60<=grade<70:\n",
        "    print(\"Grade D\")\n",
        "  else:\n",
        "    print(\"Grade F\")"
      ],
      "metadata": {
        "colab": {
          "base_uri": "https://localhost:8080/"
        },
        "id": "Wf78oBJP1Q-O",
        "outputId": "c6af81e3-4f91-49cc-cc81-ebdce7e08610"
      },
      "execution_count": null,
      "outputs": [
        {
          "output_type": "stream",
          "name": "stdout",
          "text": [
            "Grades 99\n",
            "Grade A\n"
          ]
        }
      ]
    },
    {
      "cell_type": "code",
      "source": [
        "  grade=float(input(\"Grades \"))\n",
        "  if grade>=90:\n",
        "    print(\"Grade A\")\n",
        "  elif 80<=grade<90:\n",
        "    print(\"Grade B\")\n",
        "  elif 70<=grade<80:\n",
        "    print(\"Grade C\")\n",
        "  elif 60<=grade<70:\n",
        "    print(\"Grade D\")\n",
        "  else:\n",
        "    print(\"Grade F\")"
      ],
      "metadata": {
        "colab": {
          "base_uri": "https://localhost:8080/"
        },
        "id": "FSbfHgKw1VBv",
        "outputId": "a67c8637-b833-4848-be56-3e5646f89528"
      },
      "execution_count": null,
      "outputs": [
        {
          "output_type": "stream",
          "name": "stdout",
          "text": [
            "Grades 85\n",
            "Grade B\n"
          ]
        }
      ]
    },
    {
      "cell_type": "code",
      "source": [
        "  grade=float(input(\"Grades \"))\n",
        "  if grade>=90:\n",
        "    print(\"Grade A\")\n",
        "  elif 80<=grade<90:\n",
        "    print(\"Grade B\")\n",
        "  elif 70<=grade<80:\n",
        "    print(\"Grade C\")\n",
        "  elif 60<=grade<70:\n",
        "    print(\"Grade D\")\n",
        "  else:\n",
        "    print(\"Grade F\")"
      ],
      "metadata": {
        "colab": {
          "base_uri": "https://localhost:8080/"
        },
        "id": "aAdVSief1Yft",
        "outputId": "a515c6cb-ec2a-4100-fb90-5de9616873b2"
      },
      "execution_count": null,
      "outputs": [
        {
          "output_type": "stream",
          "name": "stdout",
          "text": [
            "Grades 76\n",
            "Grade C\n"
          ]
        }
      ]
    },
    {
      "cell_type": "code",
      "source": [
        "  grade=float(input(\"Grades \"))\n",
        "  if grade>=90:\n",
        "    print(\"Grade A\")\n",
        "  elif 80<=grade<90:\n",
        "    print(\"Grade B\")\n",
        "  elif 70<=grade<80:\n",
        "    print(\"Grade C\")\n",
        "  elif 60<=grade<70:\n",
        "    print(\"Grade D\")\n",
        "  else:\n",
        "    print(\"Grade F\")"
      ],
      "metadata": {
        "colab": {
          "base_uri": "https://localhost:8080/"
        },
        "id": "soNAt3741bAO",
        "outputId": "24078c1c-381a-4b8c-c919-cb62287f35e8"
      },
      "execution_count": null,
      "outputs": [
        {
          "output_type": "stream",
          "name": "stdout",
          "text": [
            "Grades 62\n",
            "Grade D\n"
          ]
        }
      ]
    },
    {
      "cell_type": "code",
      "source": [
        "  grade=float(input(\"Grades \"))\n",
        "  if grade>=90:\n",
        "    print(\"Grade A\")\n",
        "  elif 80<=grade<90:\n",
        "    print(\"Grade B\")\n",
        "  elif 70<=grade<80:\n",
        "    print(\"Grade C\")\n",
        "  elif 60<=grade<70:\n",
        "    print(\"Grade D\")\n",
        "  else:\n",
        "    print(\"Grade F\")"
      ],
      "metadata": {
        "colab": {
          "base_uri": "https://localhost:8080/"
        },
        "id": "BPwrEZJM1dtu",
        "outputId": "540358d4-1bd3-4b75-95da-1456ef6ca1e0"
      },
      "execution_count": null,
      "outputs": [
        {
          "output_type": "stream",
          "name": "stdout",
          "text": [
            "Grades 50\n",
            "Grade F\n"
          ]
        }
      ]
    }
  ]
}