{
  "nbformat": 4,
  "nbformat_minor": 0,
  "metadata": {
    "colab": {
      "name": "Midterm Exam.ipynb ",
      "provenance": [],
      "authorship_tag": "ABX9TyOhR0vhqpYz6iDAOb4O6iz5",
      "include_colab_link": true
    },
    "kernelspec": {
      "name": "python3",
      "display_name": "Python 3"
    },
    "language_info": {
      "name": "python"
    }
  },
  "cells": [
    {
      "cell_type": "markdown",
      "metadata": {
        "id": "view-in-github",
        "colab_type": "text"
      },
      "source": [
        "<a href=\"https://colab.research.google.com/github/LouisFeraer/CPEN21A-ECE-2-1/blob/main/Midterm_Exam.ipynb\" target=\"_parent\"><img src=\"https://colab.research.google.com/assets/colab-badge.svg\" alt=\"Open In Colab\"/></a>"
      ]
    },
    {
      "cell_type": "markdown",
      "metadata": {
        "id": "38gHvq933LDR"
      },
      "source": [
        "##Midterm Exam "
      ]
    },
    {
      "cell_type": "markdown",
      "metadata": {
        "id": "agg4dlu637Lv"
      },
      "source": [
        "######PROBLEM STATEMENT 1"
      ]
    },
    {
      "cell_type": "code",
      "metadata": {
        "colab": {
          "base_uri": "https://localhost:8080/"
        },
        "id": "18JOGVjH3PYq",
        "outputId": "3a70021e-d47b-43bf-9d85-3505aaf1279c"
      },
      "source": [
        "a= (\"  \"\"Louis Phillip G. Feraer\")\n",
        "b = \"202013570\"\n",
        "c= \"20 years-old\"\n",
        "d= \"December 13, 2000\"\n",
        "e= \"Tambo Malaki Indang, Cavite\"\n",
        "f= \"BS Electronics Communication and Engineering\" \n",
        "g= \"2.11\"\n",
        "print (\"Full Name:\" + a)\n",
        "print(\"Student Number: \"+ b)\n",
        "print(\"Age :\" + c)\n",
        "print(\"Birthday: \"+ d)\n",
        "print(\"Address: \" + e)\n",
        "print(\"Course \"+ f)\n",
        "print (\"Last Sem GWA: \"+ g )\n",
        "\n"
      ],
      "execution_count": 62,
      "outputs": [
        {
          "output_type": "stream",
          "name": "stdout",
          "text": [
            "Full Name:  Louis Phillip G. Feraer\n",
            "Student Number: 202013570\n",
            "Age :20 years-old\n",
            "Birthday: December 13, 2000\n",
            "Address: Tambo Malaki Indang, Cavite\n",
            "Course BS Electronics Communication and Engineering\n",
            "Last Sem GWA: 2.11\n"
          ]
        }
      ]
    },
    {
      "cell_type": "code",
      "metadata": {
        "id": "LB8gHlIz-vZH"
      },
      "source": [
        ""
      ],
      "execution_count": null,
      "outputs": []
    },
    {
      "cell_type": "markdown",
      "metadata": {
        "id": "N02ZimrIDEeW"
      },
      "source": [
        "######PROBLEM STATEMENT 2. "
      ]
    },
    {
      "cell_type": "code",
      "metadata": {
        "colab": {
          "base_uri": "https://localhost:8080/",
          "height": 130
        },
        "id": "cUvBX5M9Dg-4",
        "outputId": "d99d21f1-5fce-4b57-8a40-41276a7c4337"
      },
      "source": [
        "n=4 \n",
        "answ= (\"Y\")\n",
        "print((2<n)and(n<6))\n",
        "print((2<n)or(n==6))\n",
        "print(not(2<n)or(n==6))\n",
        "print(not(n<6))\n",
        "print(answ==”Y”)or(answ==”y”)\n"
      ],
      "execution_count": 104,
      "outputs": [
        {
          "output_type": "error",
          "ename": "SyntaxError",
          "evalue": "ignored",
          "traceback": [
            "\u001b[0;36m  File \u001b[0;32m\"<ipython-input-104-2dedea2847e0>\"\u001b[0;36m, line \u001b[0;32m7\u001b[0m\n\u001b[0;31m    print(answ==”Y”)or(answ==”y”)\u001b[0m\n\u001b[0m                  ^\u001b[0m\n\u001b[0;31mSyntaxError\u001b[0m\u001b[0;31m:\u001b[0m invalid character in identifier\n"
          ]
        }
      ]
    },
    {
      "cell_type": "markdown",
      "metadata": {
        "id": "LZh0hoNDDMP9"
      },
      "source": [
        "######PROBLEM STATEMENT 3 "
      ]
    },
    {
      "cell_type": "code",
      "metadata": {
        "colab": {
          "base_uri": "https://localhost:8080/"
        },
        "id": "-qFuy1fpDUyD",
        "outputId": "e4c207b5-d4fe-4026-9b33-94bd8557ba22"
      },
      "source": [
        "x = 2\n",
        "y = -3\n",
        "w = 7\n",
        "z = -10\n",
        "\n",
        "print(x/y)\n",
        "print(w/y/z)\n",
        "print(z/y%x)\n",
        "print(x%-y*w)\n",
        "print(x%y)\n",
        "print(z%w-y/x*5+5)\n",
        "print( 9-x%(2+y))\n",
        "print(z//w)\n",
        "print((2+y)**2)\n",
        "print(w/x*2)"
      ],
      "execution_count": 63,
      "outputs": [
        {
          "output_type": "stream",
          "name": "stdout",
          "text": [
            "-0.6666666666666666\n",
            "0.23333333333333334\n",
            "1.3333333333333335\n",
            "14\n",
            "-1\n",
            "16.5\n",
            "9\n",
            "-2\n",
            "1\n",
            "7.0\n"
          ]
        }
      ]
    }
  ]
}