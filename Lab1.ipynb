{
  "nbformat": 4,
  "nbformat_minor": 0,
  "metadata": {
    "colab": {
      "name": "Lab1.ipynb",
      "provenance": [],
      "authorship_tag": "ABX9TyOwjCRHnhC7cvdSqOddONpi",
      "include_colab_link": true
    },
    "kernelspec": {
      "name": "python3",
      "display_name": "Python 3"
    },
    "language_info": {
      "name": "python"
    }
  },
  "cells": [
    {
      "cell_type": "markdown",
      "metadata": {
        "id": "view-in-github",
        "colab_type": "text"
      },
      "source": [
        "<a href=\"https://colab.research.google.com/github/LouisFeraer/CPEN21A-ECE-2-1/blob/main/Lab1.ipynb\" target=\"_parent\"><img src=\"https://colab.research.google.com/assets/colab-badge.svg\" alt=\"Open In Colab\"/></a>"
      ]
    },
    {
      "cell_type": "markdown",
      "metadata": {
        "id": "KYV0pxhDqdts"
      },
      "source": [
        "#Laboratory 1"
      ]
    },
    {
      "cell_type": "markdown",
      "metadata": {
        "id": "k5uW3F_EpuIe"
      },
      "source": [
        "###Welcome to Python Programming"
      ]
    },
    {
      "cell_type": "code",
      "metadata": {
        "colab": {
          "base_uri": "https://localhost:8080/"
        },
        "id": "3YEy5yw8q6YH",
        "outputId": "6dd27582-856f-4ad4-e54d-839779ba6fcf"
      },
      "source": [
        "a = (\"Louis Phillip G. Feraer\")\n",
        "b = \"20\"\n",
        "c = \"years-old\"\n",
        "d = \"Tambo Malaki\"\n",
        "print (\"Name: \" + a )\n",
        "print (\"Adress: \" + d + \" \" \"Indang,\" \" \"\"Cavite\")\n",
        "print (\"Age:\" \" \"  + b + c )"
      ],
      "execution_count": 58,
      "outputs": [
        {
          "output_type": "stream",
          "name": "stdout",
          "text": [
            "Name: Louis Phillip G. Feraer\n",
            "Adress: Tambo Malaki Indang, Cavite\n",
            "Age: 20years-old\n"
          ]
        }
      ]
    }
  ]
}