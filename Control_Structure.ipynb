{
  "nbformat": 4,
  "nbformat_minor": 0,
  "metadata": {
    "colab": {
      "name": "Control Structure.ipynb",
      "provenance": [],
      "authorship_tag": "ABX9TyMR+dwidnhW1HkwUKJWB+pI",
      "include_colab_link": true
    },
    "kernelspec": {
      "name": "python3",
      "display_name": "Python 3"
    },
    "language_info": {
      "name": "python"
    }
  },
  "cells": [
    {
      "cell_type": "markdown",
      "metadata": {
        "id": "view-in-github",
        "colab_type": "text"
      },
      "source": [
        "<a href=\"https://colab.research.google.com/github/LouisFeraer/CPEN21A-ECE-2-1/blob/main/Control_Structure.ipynb\" target=\"_parent\"><img src=\"https://colab.research.google.com/assets/colab-badge.svg\" alt=\"Open In Colab\"/></a>"
      ]
    },
    {
      "cell_type": "markdown",
      "metadata": {
        "id": "d-7N3kSz9O3Q"
      },
      "source": [
        "####If Statement"
      ]
    },
    {
      "cell_type": "code",
      "metadata": {
        "colab": {
          "base_uri": "https://localhost:8080/"
        },
        "id": "n1mT_mLD9TLn",
        "outputId": "4820cb72-ce22-45c1-85cd-2b9c83ecb92c"
      },
      "source": [
        "a=12\n",
        "b=100\n",
        "if b>a:\n",
        " print(\"b is greater than a\") "
      ],
      "execution_count": 30,
      "outputs": [
        {
          "output_type": "stream",
          "name": "stdout",
          "text": [
            "b is greater than a\n"
          ]
        }
      ]
    },
    {
      "cell_type": "markdown",
      "metadata": {
        "id": "LTTf99nG-ChA"
      },
      "source": [
        "####Elif Statement"
      ]
    },
    {
      "cell_type": "code",
      "metadata": {
        "colab": {
          "base_uri": "https://localhost:8080/"
        },
        "id": "KLYeg20e-Gdg",
        "outputId": "da777224-1744-402f-bc10-55184b232255"
      },
      "source": [
        "a= 12\n",
        "b= 13\n",
        "if b>a:\n",
        " print(\"b is greater than a\") \n",
        "elif b==a:\n",
        " print(\"a and b are equal\")    "
      ],
      "execution_count": 34,
      "outputs": [
        {
          "output_type": "stream",
          "name": "stdout",
          "text": [
            "b is greater than a\n"
          ]
        }
      ]
    },
    {
      "cell_type": "markdown",
      "metadata": {
        "id": "SRP4Ype3-aw-"
      },
      "source": [
        "####Else Statement"
      ]
    },
    {
      "cell_type": "code",
      "metadata": {
        "colab": {
          "base_uri": "https://localhost:8080/"
        },
        "id": "3w6mxL7Q-eUA",
        "outputId": "57e9fb16-d153-4eae-a8a3-93ba2965abdb"
      },
      "source": [
        "a=30\n",
        "b=15\n",
        "if a>b:\n",
        " print(\"a is greater than b\") \n",
        "elif b>a:\n",
        "  print(\"b is greater than a\")\n",
        "else:\n",
        " print(\"a is greater than b\") "
      ],
      "execution_count": 35,
      "outputs": [
        {
          "output_type": "stream",
          "name": "stdout",
          "text": [
            "a is greater than b\n"
          ]
        }
      ]
    },
    {
      "cell_type": "markdown",
      "metadata": {
        "id": "qhvpRhgo_Ges"
      },
      "source": [
        "####Short Hand If Statement"
      ]
    },
    {
      "cell_type": "code",
      "metadata": {
        "colab": {
          "base_uri": "https://localhost:8080/"
        },
        "id": "nglg0agR_MCN",
        "outputId": "c84ada0b-832f-4f05-ce87-419895945c60"
      },
      "source": [
        "a= 12\n",
        "b= 6\n",
        "if a>b:print(\"a is greater than b\")"
      ],
      "execution_count": 11,
      "outputs": [
        {
          "output_type": "stream",
          "name": "stdout",
          "text": [
            "a is greater than b\n"
          ]
        }
      ]
    },
    {
      "cell_type": "markdown",
      "metadata": {
        "id": "EhApkdPF_hou"
      },
      "source": [
        "####Short Hand If...Else Statement "
      ]
    },
    {
      "cell_type": "code",
      "metadata": {
        "colab": {
          "base_uri": "https://localhost:8080/"
        },
        "id": "3n81ykL5_pkR",
        "outputId": "dad0566d-14d0-4091-d873-1e220d54edcc"
      },
      "source": [
        "a= 7\n",
        "b= 14\n",
        "print(\"a is greater than b\") if a>b else print(\"b is greater than a\")"
      ],
      "execution_count": 12,
      "outputs": [
        {
          "output_type": "stream",
          "name": "stdout",
          "text": [
            "b is greater than a\n"
          ]
        }
      ]
    },
    {
      "cell_type": "markdown",
      "metadata": {
        "id": "-fnhHD1h_7S6"
      },
      "source": [
        "####And Logical Condition"
      ]
    },
    {
      "cell_type": "code",
      "metadata": {
        "colab": {
          "base_uri": "https://localhost:8080/"
        },
        "id": "OM4b1XWhAQ1P",
        "outputId": "04e0e9ae-339b-454a-e2e9-6708470af679"
      },
      "source": [
        "a=100\n",
        "b=45\n",
        "c=300\n",
        "if a>b and c>a:\n",
        "  print(\"Both condition are True\")\n",
        "else:\n",
        "  print(\"Evaluated as False\")  "
      ],
      "execution_count": 14,
      "outputs": [
        {
          "output_type": "stream",
          "name": "stdout",
          "text": [
            "Both condition are True\n"
          ]
        }
      ]
    },
    {
      "cell_type": "markdown",
      "metadata": {
        "id": "4E5XiDEZAxNZ"
      },
      "source": [
        "####Or Logical Condition"
      ]
    },
    {
      "cell_type": "code",
      "metadata": {
        "colab": {
          "base_uri": "https://localhost:8080/"
        },
        "id": "VkZMLYE2A1rd",
        "outputId": "34d6ae8c-abc3-4f60-ab2e-e669e3ddcbf8"
      },
      "source": [
        "a=100\n",
        "b=45\n",
        "c=300\n",
        "if a>b or c>a:\n",
        "  print(\"Both condition are True\")\n",
        "else:\n",
        "  print(\"Evaluated as False\")"
      ],
      "execution_count": 45,
      "outputs": [
        {
          "output_type": "stream",
          "name": "stdout",
          "text": [
            "Both condition are True\n"
          ]
        }
      ]
    },
    {
      "cell_type": "markdown",
      "metadata": {
        "id": "jvJH9N5ABFR7"
      },
      "source": [
        "####Nested If... Else Statement"
      ]
    },
    {
      "cell_type": "code",
      "metadata": {
        "colab": {
          "base_uri": "https://localhost:8080/"
        },
        "id": "6IIfKi9PBKMY",
        "outputId": "c9e92fff-83ad-4ba1-ea5b-ad2cafca4624"
      },
      "source": [
        "x=50\n",
        "\n",
        "if x>10:\n",
        " print(\"Above ten\")\n",
        " if x>20:\n",
        "   print(\"Above Twenty\")\n",
        " else:\n",
        "   print(\"Above ten but Not above twenty\")\n",
        "else:\n",
        "   print(\"Not above ten\")"
      ],
      "execution_count": 27,
      "outputs": [
        {
          "output_type": "stream",
          "name": "stdout",
          "text": [
            "Above ten\n",
            "Above Twenty\n"
          ]
        }
      ]
    },
    {
      "cell_type": "markdown",
      "metadata": {
        "id": "8EJwWgcZCWv7"
      },
      "source": [
        "###Example"
      ]
    },
    {
      "cell_type": "code",
      "metadata": {
        "colab": {
          "base_uri": "https://localhost:8080/"
        },
        "id": "sgNBiR-yCYwp",
        "outputId": "d6bd7272-08b2-4c58-823b-6eb3b72c26e4"
      },
      "source": [
        "#The qualifying age to vote \n",
        "age = int(input(\"Enter your age:\"))\n",
        "\n",
        "if age>=18:\n",
        "  print(\"You are qualified to vote\")\n",
        "else:\n",
        "  print(\"You are not qualified to vote\")  \n"
      ],
      "execution_count": 29,
      "outputs": [
        {
          "output_type": "stream",
          "name": "stdout",
          "text": [
            "Enter your age20\n",
            "You are qualified to vote\n"
          ]
        }
      ]
    },
    {
      "cell_type": "markdown",
      "metadata": {
        "id": "AOojFgdfDw8P"
      },
      "source": [
        "####Example 2"
      ]
    },
    {
      "cell_type": "code",
      "metadata": {
        "colab": {
          "base_uri": "https://localhost:8080/"
        },
        "id": "d-la2cXnDzRz",
        "outputId": "3fe20b85-1f72-43ef-f5c9-284bd85701a6"
      },
      "source": [
        "num = int(input(\"Enter the Number:\"))\n",
        "if num==0:\n",
        " print(\"Zero\")\n",
        "elif num>0:\n",
        "  print(\"Positive\") \n",
        "else:\n",
        "  print(\"Negative\")"
      ],
      "execution_count": 37,
      "outputs": [
        {
          "output_type": "stream",
          "name": "stdout",
          "text": [
            "Enter the Number:5\n",
            "Positive\n"
          ]
        }
      ]
    },
    {
      "cell_type": "markdown",
      "metadata": {
        "id": "tDV38eKQEW47"
      },
      "source": [
        "###Example 3"
      ]
    },
    {
      "cell_type": "code",
      "metadata": {
        "colab": {
          "base_uri": "https://localhost:8080/"
        },
        "id": "uSySR9eIEZSq",
        "outputId": "229fea72-9d75-404c-a42c-9f55ce5a47b8"
      },
      "source": [
        "grades = float(input(\"Enter the grades: \"))\n",
        "if grades==74-74.999:   \n",
        " print(\"Remedial\")\n",
        "elif grades>=75:\n",
        " print(\"Passed\")  \n",
        "else: \n",
        "  print(\"Failed\") "
      ],
      "execution_count": 44,
      "outputs": [
        {
          "output_type": "stream",
          "name": "stdout",
          "text": [
            "Enter the grades: 86\n",
            "Passed\n"
          ]
        }
      ]
    }
  ]
}